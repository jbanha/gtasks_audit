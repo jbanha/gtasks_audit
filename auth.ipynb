{
 "cells": [
  {
   "cell_type": "code",
   "execution_count": null,
   "id": "461cb5d5-b1ee-4f3f-8a6a-f990db2446a4",
   "metadata": {},
   "outputs": [],
   "source": [
    "import os\n",
    "import json\n",
    "import configs.env\n",
    "\n",
    "import requests\n",
    "\n",
    "from oauthlib.oauth2 import MobileApplicationClient\n",
    "from requests_oauthlib import OAuth2Session\n",
    "\n",
    "from auth.secrets_client import AUTH_URI, TOKEN_URI, CLIENT_SECRET, CLIENT_ID\n",
    "\n",
    "TASKS_URL = 'https://www.googleapis.com/tasks/v1/users/@me/'\n",
    "\n",
    "SCOPES = ['https://www.googleapis.com/auth/tasks.readonly',\n",
    "         'https://www.googleapis.com/auth/spreadsheets']"
   ]
  },
  {
   "cell_type": "code",
   "execution_count": null,
   "id": "d8318174-53e6-44ef-936b-8b5ca6427a71",
   "metadata": {},
   "outputs": [],
   "source": [
    "oauth = OAuth2Session(\n",
    "        client_id = CLIENT_ID,\n",
    "        scope = SCOPES,\n",
    "        redirect_uri = 'https://localhost'\n",
    "    )\n",
    "    \n",
    "authorization_url, state = oauth.authorization_url(\n",
    "        AUTH_URI,\n",
    "        access_type='offline',\n",
    "        prompt='select_account'\n",
    "    )\n",
    "\n",
    "print(authorization_url)"
   ]
  },
  {
   "cell_type": "code",
   "execution_count": null,
   "id": "a44c1289-081f-4192-b875-f2f2f9670dd7",
   "metadata": {},
   "outputs": [],
   "source": [
    "response_url = 'PASTE_HERE'"
   ]
  },
  {
   "cell_type": "code",
   "execution_count": null,
   "id": "1e1713e3-6655-40a9-958c-62bccc8b7d3f",
   "metadata": {},
   "outputs": [],
   "source": [
    "from urllib.parse import parse_qs, urlparse\n",
    "\n",
    "parsed_url = parse_qs(urlparse(response_url).query)"
   ]
  },
  {
   "cell_type": "code",
   "execution_count": null,
   "id": "fbd8c963-b1f3-4677-833d-3b022f1a552d",
   "metadata": {},
   "outputs": [],
   "source": [
    "parsed_url"
   ]
  },
  {
   "cell_type": "code",
   "execution_count": null,
   "id": "ca58555c-5a7f-46e7-a333-222c70680af6",
   "metadata": {},
   "outputs": [],
   "source": [
    "token_response = oauth.fetch_token(TOKEN_URI,authorization_response=response_url, client_secret=CLIENT_SECRET)"
   ]
  },
  {
   "cell_type": "code",
   "execution_count": null,
   "id": "159972ba-576c-48c9-bbd5-732376751ae6",
   "metadata": {},
   "outputs": [],
   "source": [
    "print(token_response)"
   ]
  },
  {
   "cell_type": "code",
   "execution_count": null,
   "id": "eaa9234b-74ee-4db6-bea0-ec5ff09d77d5",
   "metadata": {},
   "outputs": [],
   "source": [
    "with open('auth/token.json', 'w') as f:\n",
    "    f.write(json.dumps(token_response))"
   ]
  },
  {
   "cell_type": "code",
   "execution_count": null,
   "id": "d1527432-3122-4b37-a57a-fe2a45ea1895",
   "metadata": {},
   "outputs": [],
   "source": [
    "with open('auth/token.json', 'r') as f:\n",
    "    stored_token = json.loads(f.read())\n",
    "    \n",
    "print(stored_token)"
   ]
  },
  {
   "cell_type": "code",
   "execution_count": null,
   "id": "fc58e8e3-fbd6-4cbf-8186-c860f890571a",
   "metadata": {},
   "outputs": [],
   "source": [
    "refreshed_token = oauth.refresh_token(TOKEN_URI, client_id =CLIENT_ID, refresh_token=stored_token.get('refresh_token'), client_secret=CLIENT_SECRET)"
   ]
  },
  {
   "cell_type": "code",
   "execution_count": null,
   "id": "73b1603e-e82b-4ab4-90ff-2e04f5acbe2c",
   "metadata": {},
   "outputs": [],
   "source": [
    "print(refreshed_token)"
   ]
  },
  {
   "cell_type": "code",
   "execution_count": null,
   "id": "8628d95c-36f2-467b-b408-6a4f8c90cac1",
   "metadata": {},
   "outputs": [],
   "source": [
    "\n",
    "with open('auth/token.json', 'w') as f:\n",
    "    f.write(json.dumps(refreshed_token))\n"
   ]
  }
 ],
 "metadata": {
  "kernelspec": {
   "display_name": "venv_tasks",
   "language": "python",
   "name": "venv_tasks"
  },
  "language_info": {
   "codemirror_mode": {
    "name": "ipython",
    "version": 3
   },
   "file_extension": ".py",
   "mimetype": "text/x-python",
   "name": "python",
   "nbconvert_exporter": "python",
   "pygments_lexer": "ipython3",
   "version": "3.11.1"
  }
 },
 "nbformat": 4,
 "nbformat_minor": 5
}
