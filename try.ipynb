{
 "cells": [
  {
   "cell_type": "code",
   "execution_count": 1,
   "id": "255cbffe-9f8f-4994-a84e-77803632a72d",
   "metadata": {},
   "outputs": [],
   "source": [
    "import os\n",
    "import json\n",
    "import dotenv\n",
    "\n",
    "import requests\n",
    "\n",
    "from oauthlib.oauth2 import MobileApplicationClient\n",
    "from requests_oauthlib import OAuth2Session\n",
    "\n",
    "from auth.secrets_client import AUTH_URI, TOKEN_URI, CLIENT_SECRET, CLIENT_ID"
   ]
  },
  {
   "cell_type": "code",
   "execution_count": 2,
   "id": "0cef975d-2cad-49ed-81e4-72f17aad550a",
   "metadata": {},
   "outputs": [],
   "source": [
    "TASKS_URL = 'https://www.googleapis.com/tasks/v1/'\n",
    "\n",
    "SCOPES = ['https://www.googleapis.com/auth/tasks.readonly',\n",
    "         'https://www.googleapis.com/auth/spreadsheets']\n"
   ]
  },
  {
   "cell_type": "code",
   "execution_count": 3,
   "id": "117c3897-75b6-4bd3-9453-3c5b0a98ef94",
   "metadata": {},
   "outputs": [
    {
     "name": "stdout",
     "output_type": "stream",
     "text": [
      "{'kind': 'tasks#taskLists', 'etag': '\"NjY5ODI2NTUz\"', 'items': [{'kind': 'tasks#taskList', 'id': 'MDczNDExODU0MzI3MDE5NTQyMDQ6MDow', 'etag': '\"LTc3NDAxMzQ1Nw\"', 'title': 'As minhas tarefas', 'updated': '2023-01-21T01:07:11.573Z', 'selfLink': 'https://www.googleapis.com/tasks/v1/users/@me/lists/MDczNDExODU0MzI3MDE5NTQyMDQ6MDow'}, {'kind': 'tasks#taskList', 'id': 'M0dJOFhqM25GUlg3QlZFTA', 'etag': '\"LTE3MDg1MzU4OTI\"', 'title': 'Home', 'updated': '2022-11-21T12:29:01.833Z', 'selfLink': 'https://www.googleapis.com/tasks/v1/users/@me/lists/M0dJOFhqM25GUlg3QlZFTA'}, {'kind': 'tasks#taskList', 'id': 'cEw5ODBvRERIU2xoa1BFQw', 'etag': '\"LTUwNjAyNDMzNA\"', 'title': 'Write List', 'updated': '2022-12-05T10:30:54.167Z', 'selfLink': 'https://www.googleapis.com/tasks/v1/users/@me/lists/cEw5ODBvRERIU2xoa1BFQw'}, {'kind': 'tasks#taskList', 'id': 'WWVmV1NMaUdORnhTaVJyOQ', 'etag': '\"LTI1NTkwNzI0OQ\"', 'title': 'Read List', 'updated': '2022-12-08T07:59:31.252Z', 'selfLink': 'https://www.googleapis.com/tasks/v1/users/@me/lists/WWVmV1NMaUdORnhTaVJyOQ'}, {'kind': 'tasks#taskList', 'id': 'aVk3dk1ULWEzaE5Db3Raeg', 'etag': '\"LTUwNjAyNDMzNA\"', 'title': 'Watch List', 'updated': '2022-12-05T10:30:54.167Z', 'selfLink': 'https://www.googleapis.com/tasks/v1/users/@me/lists/aVk3dk1ULWEzaE5Db3Raeg'}]}\n"
     ]
    }
   ],
   "source": [
    "\n",
    "oauth = OAuth2Session(\n",
    "    client = MobileApplicationClient(\n",
    "        client_id = CLIENT_ID\n",
    "    ),\n",
    "    scope = SCOPES,\n",
    "    redirect_uri = 'https://localhost'\n",
    ")\n",
    "\n",
    "with open('auth/token.json', 'r') as f:\n",
    "    stored_token = json.loads(f.read())\n",
    "\n",
    "refreshed_token = oauth.refresh_token(\n",
    "    TOKEN_URI,\n",
    "    client_id = CLIENT_ID,\n",
    "    client_secret = CLIENT_SECRET,\n",
    "    refresh_token=stored_token.get('refresh_token')\n",
    ")\n",
    "\n",
    "with open('auth/token.json', 'w') as f:\n",
    "    f.write(json.dumps(refreshed_token))\n",
    "\n",
    "task_list_response = oauth.get(TASKS_URL + 'users/@me/lists')\n",
    "\n",
    "print(json.loads(task_list_response.content))\n"
   ]
  },
  {
   "cell_type": "code",
   "execution_count": 4,
   "id": "d9c478f0-6828-4f89-b454-412139331b00",
   "metadata": {},
   "outputs": [],
   "source": [
    "from model.task_list import TaskList"
   ]
  },
  {
   "cell_type": "code",
   "execution_count": 5,
   "id": "71455a14-27ef-48a7-a99d-084613b70baa",
   "metadata": {},
   "outputs": [],
   "source": [
    "tlists = [TaskList(item) for item in json.loads(task_list_response.content).get('items')]"
   ]
  },
  {
   "cell_type": "code",
   "execution_count": 6,
   "id": "99021500-c08c-4ba3-83ef-dc3ca19fa8df",
   "metadata": {},
   "outputs": [],
   "source": [
    "tasks_response = oauth.get(TASKS_URL + 'lists/' + tlists[0].id + '/tasks').content"
   ]
  },
  {
   "cell_type": "code",
   "execution_count": 7,
   "id": "53e96e21-e58f-49d0-af85-5c917f6cd96e",
   "metadata": {
    "tags": []
   },
   "outputs": [
    {
     "data": {
      "text/plain": [
       "{'kind': 'tasks#tasks',\n",
       " 'etag': '\"LTc3NDAxMzQ1Nw\"',\n",
       " 'items': [{'kind': 'tasks#task',\n",
       "   'id': 'SUVzcTRHZVhKak5RVkJpdw',\n",
       "   'etag': '\"LTc3NDAxMzQ4OA\"',\n",
       "   'title': 'IF',\n",
       "   'updated': '2023-01-21T01:07:11.000Z',\n",
       "   'selfLink': 'https://www.googleapis.com/tasks/v1/lists/MDczNDExODU0MzI3MDE5NTQyMDQ6MDow/tasks/SUVzcTRHZVhKak5RVkJpdw',\n",
       "   'position': '00000000000000000001',\n",
       "   'status': 'needsAction',\n",
       "   'due': '2023-01-21T00:00:00.000Z',\n",
       "   'links': []},\n",
       "  {'kind': 'tasks#task',\n",
       "   'id': 'T0wyMVg3Vi1fTFhGYk8xWQ',\n",
       "   'etag': '\"LTc3NDAxMzQ4OA\"',\n",
       "   'title': 'Lingvist',\n",
       "   'updated': '2023-01-21T01:07:11.000Z',\n",
       "   'selfLink': 'https://www.googleapis.com/tasks/v1/lists/MDczNDExODU0MzI3MDE5NTQyMDQ6MDow/tasks/T0wyMVg3Vi1fTFhGYk8xWQ',\n",
       "   'position': '00000000000000000002',\n",
       "   'status': 'needsAction',\n",
       "   'due': '2023-01-21T00:00:00.000Z',\n",
       "   'links': []},\n",
       "  {'kind': 'tasks#task',\n",
       "   'id': 'd0dwNExWakdSNW01Q3dSTQ',\n",
       "   'etag': '\"LTc3NDAxMzQ4OA\"',\n",
       "   'title': 'Duolingo',\n",
       "   'updated': '2023-01-21T01:07:11.000Z',\n",
       "   'selfLink': 'https://www.googleapis.com/tasks/v1/lists/MDczNDExODU0MzI3MDE5NTQyMDQ6MDow/tasks/d0dwNExWakdSNW01Q3dSTQ',\n",
       "   'position': '00000000000000000000',\n",
       "   'status': 'needsAction',\n",
       "   'due': '2023-01-21T00:00:00.000Z',\n",
       "   'links': []},\n",
       "  {'kind': 'tasks#task',\n",
       "   'id': 'Rmk3a1gyV3B2c0NYZjJObQ',\n",
       "   'etag': '\"LTg2ODA0MzAzMQ\"',\n",
       "   'title': 'Water plants',\n",
       "   'updated': '2023-01-19T23:00:02.000Z',\n",
       "   'selfLink': 'https://www.googleapis.com/tasks/v1/lists/MDczNDExODU0MzI3MDE5NTQyMDQ6MDow/tasks/Rmk3a1gyV3B2c0NYZjJObQ',\n",
       "   'position': '00000000000000000003',\n",
       "   'status': 'needsAction',\n",
       "   'due': '2023-01-20T00:00:00.000Z',\n",
       "   'links': []},\n",
       "  {'kind': 'tasks#task',\n",
       "   'id': 'WVZiMkZvSElrRU5aZXpKdA',\n",
       "   'etag': '\"LTE2OTc1NDkwMDQ\"',\n",
       "   'title': 'Company in portugal',\n",
       "   'updated': '2023-01-10T08:34:56.000Z',\n",
       "   'selfLink': 'https://www.googleapis.com/tasks/v1/lists/MDczNDExODU0MzI3MDE5NTQyMDQ6MDow/tasks/WVZiMkZvSElrRU5aZXpKdA',\n",
       "   'position': '00000000000000000004',\n",
       "   'status': 'needsAction',\n",
       "   'links': []},\n",
       "  {'kind': 'tasks#task',\n",
       "   'id': 'MEpBM2loYTl0SkdxbHlXZw',\n",
       "   'etag': '\"LTIwNDAwMTAyOTM\"',\n",
       "   'title': 'Mobility',\n",
       "   'updated': '2023-01-06T09:27:14.000Z',\n",
       "   'selfLink': 'https://www.googleapis.com/tasks/v1/lists/MDczNDExODU0MzI3MDE5NTQyMDQ6MDow/tasks/MEpBM2loYTl0SkdxbHlXZw',\n",
       "   'position': '00000000000000000005',\n",
       "   'status': 'needsAction',\n",
       "   'links': []},\n",
       "  {'kind': 'tasks#task',\n",
       "   'id': 'WEQxdGs0TVFGaEt4STBFVA',\n",
       "   'etag': '\"MTQyMjgzMzQ0MA\"',\n",
       "   'title': 'Check tax report',\n",
       "   'updated': '2022-12-27T18:18:31.000Z',\n",
       "   'selfLink': 'https://www.googleapis.com/tasks/v1/lists/MDczNDExODU0MzI3MDE5NTQyMDQ6MDow/tasks/WEQxdGs0TVFGaEt4STBFVA',\n",
       "   'position': '00000000000000000006',\n",
       "   'status': 'needsAction',\n",
       "   'links': []},\n",
       "  {'kind': 'tasks#task',\n",
       "   'id': 'WW9oYy1UZFBmcjlRdGM0RQ',\n",
       "   'etag': '\"NDMyODc5OTIy\"',\n",
       "   'title': 'Mother House',\n",
       "   'updated': '2022-12-16T07:19:17.000Z',\n",
       "   'selfLink': 'https://www.googleapis.com/tasks/v1/lists/MDczNDExODU0MzI3MDE5NTQyMDQ6MDow/tasks/WW9oYy1UZFBmcjlRdGM0RQ',\n",
       "   'position': '00000000000000000007',\n",
       "   'status': 'needsAction',\n",
       "   'links': []}]}"
      ]
     },
     "execution_count": 7,
     "metadata": {},
     "output_type": "execute_result"
    }
   ],
   "source": [
    "json.loads(tasks_response)\n"
   ]
  },
  {
   "cell_type": "code",
   "execution_count": 8,
   "id": "57f05239-7f77-4c75-8783-8853f39f2f3a",
   "metadata": {},
   "outputs": [
    {
     "data": {
      "text/plain": [
       "'https://www.googleapis.com/tasks/v1/'"
      ]
     },
     "execution_count": 8,
     "metadata": {},
     "output_type": "execute_result"
    }
   ],
   "source": [
    "TASKS_URL"
   ]
  },
  {
   "cell_type": "code",
   "execution_count": 9,
   "id": "1b7733e6-b88c-4a46-82b4-42ff51fb501a",
   "metadata": {
    "tags": []
   },
   "outputs": [
    {
     "name": "stdout",
     "output_type": "stream",
     "text": [
      "https://www.googleapis.com/tasks/v1/lists/MDczNDExODU0MzI3MDE5NTQyMDQ6MDow/tasks\n",
      "b'{\\n  \"kind\": \"tasks#tasks\",\\n  \"etag\": \"\\\\\"LTc3NDAxMzQ1Nw\\\\\"\",\\n  \"items\": [\\n    {\\n      \"kind\": \"tasks#task\",\\n      \"id\": \"SUVzcTRHZVhKak5RVkJpdw\",\\n      \"etag\": \"\\\\\"LTc3NDAxMzQ4OA\\\\\"\",\\n      \"title\": \"IF\",\\n      \"updated\": \"2023-01-21T01:07:11.000Z\",\\n      \"selfLink\": \"https://www.googleapis.com/tasks/v1/lists/MDczNDExODU0MzI3MDE5NTQyMDQ6MDow/tasks/SUVzcTRHZVhKak5RVkJpdw\",\\n      \"position\": \"00000000000000000001\",\\n      \"status\": \"needsAction\",\\n      \"due\": \"2023-01-21T00:00:00.000Z\",\\n      \"links\": []\\n    },\\n    {\\n      \"kind\": \"tasks#task\",\\n      \"id\": \"T0wyMVg3Vi1fTFhGYk8xWQ\",\\n      \"etag\": \"\\\\\"LTc3NDAxMzQ4OA\\\\\"\",\\n      \"title\": \"Lingvist\",\\n      \"updated\": \"2023-01-21T01:07:11.000Z\",\\n      \"selfLink\": \"https://www.googleapis.com/tasks/v1/lists/MDczNDExODU0MzI3MDE5NTQyMDQ6MDow/tasks/T0wyMVg3Vi1fTFhGYk8xWQ\",\\n      \"position\": \"00000000000000000002\",\\n      \"status\": \"needsAction\",\\n      \"due\": \"2023-01-21T00:00:00.000Z\",\\n      \"links\": []\\n    },\\n    {\\n      \"kind\": \"tasks#task\",\\n      \"id\": \"d0dwNExWakdSNW01Q3dSTQ\",\\n      \"etag\": \"\\\\\"LTc3NDAxMzQ4OA\\\\\"\",\\n      \"title\": \"Duolingo\",\\n      \"updated\": \"2023-01-21T01:07:11.000Z\",\\n      \"selfLink\": \"https://www.googleapis.com/tasks/v1/lists/MDczNDExODU0MzI3MDE5NTQyMDQ6MDow/tasks/d0dwNExWakdSNW01Q3dSTQ\",\\n      \"position\": \"00000000000000000000\",\\n      \"status\": \"needsAction\",\\n      \"due\": \"2023-01-21T00:00:00.000Z\",\\n      \"links\": []\\n    },\\n    {\\n      \"kind\": \"tasks#task\",\\n      \"id\": \"Rmk3a1gyV3B2c0NYZjJObQ\",\\n      \"etag\": \"\\\\\"LTg2ODA0MzAzMQ\\\\\"\",\\n      \"title\": \"Water plants\",\\n      \"updated\": \"2023-01-19T23:00:02.000Z\",\\n      \"selfLink\": \"https://www.googleapis.com/tasks/v1/lists/MDczNDExODU0MzI3MDE5NTQyMDQ6MDow/tasks/Rmk3a1gyV3B2c0NYZjJObQ\",\\n      \"position\": \"00000000000000000003\",\\n      \"status\": \"needsAction\",\\n      \"due\": \"2023-01-20T00:00:00.000Z\",\\n      \"links\": []\\n    },\\n    {\\n      \"kind\": \"tasks#task\",\\n      \"id\": \"WVZiMkZvSElrRU5aZXpKdA\",\\n      \"etag\": \"\\\\\"LTE2OTc1NDkwMDQ\\\\\"\",\\n      \"title\": \"Company in portugal\",\\n      \"updated\": \"2023-01-10T08:34:56.000Z\",\\n      \"selfLink\": \"https://www.googleapis.com/tasks/v1/lists/MDczNDExODU0MzI3MDE5NTQyMDQ6MDow/tasks/WVZiMkZvSElrRU5aZXpKdA\",\\n      \"position\": \"00000000000000000004\",\\n      \"status\": \"needsAction\",\\n      \"links\": []\\n    },\\n    {\\n      \"kind\": \"tasks#task\",\\n      \"id\": \"MEpBM2loYTl0SkdxbHlXZw\",\\n      \"etag\": \"\\\\\"LTIwNDAwMTAyOTM\\\\\"\",\\n      \"title\": \"Mobility\",\\n      \"updated\": \"2023-01-06T09:27:14.000Z\",\\n      \"selfLink\": \"https://www.googleapis.com/tasks/v1/lists/MDczNDExODU0MzI3MDE5NTQyMDQ6MDow/tasks/MEpBM2loYTl0SkdxbHlXZw\",\\n      \"position\": \"00000000000000000005\",\\n      \"status\": \"needsAction\",\\n      \"links\": []\\n    },\\n    {\\n      \"kind\": \"tasks#task\",\\n      \"id\": \"WEQxdGs0TVFGaEt4STBFVA\",\\n      \"etag\": \"\\\\\"MTQyMjgzMzQ0MA\\\\\"\",\\n      \"title\": \"Check tax report\",\\n      \"updated\": \"2022-12-27T18:18:31.000Z\",\\n      \"selfLink\": \"https://www.googleapis.com/tasks/v1/lists/MDczNDExODU0MzI3MDE5NTQyMDQ6MDow/tasks/WEQxdGs0TVFGaEt4STBFVA\",\\n      \"position\": \"00000000000000000006\",\\n      \"status\": \"needsAction\",\\n      \"links\": []\\n    },\\n    {\\n      \"kind\": \"tasks#task\",\\n      \"id\": \"WW9oYy1UZFBmcjlRdGM0RQ\",\\n      \"etag\": \"\\\\\"NDMyODc5OTIy\\\\\"\",\\n      \"title\": \"Mother House\",\\n      \"updated\": \"2022-12-16T07:19:17.000Z\",\\n      \"selfLink\": \"https://www.googleapis.com/tasks/v1/lists/MDczNDExODU0MzI3MDE5NTQyMDQ6MDow/tasks/WW9oYy1UZFBmcjlRdGM0RQ\",\\n      \"position\": \"00000000000000000007\",\\n      \"status\": \"needsAction\",\\n      \"links\": []\\n    }\\n  ]\\n}\\n'\n",
      "Retrieved 8 tasks from list \"As minhas tarefas\"\n"
     ]
    },
    {
     "data": {
      "text/plain": [
       "[<model.task.Task at 0x7281988d10>,\n",
       " <model.task.Task at 0x7281ab0d90>,\n",
       " <model.task.Task at 0x7281988290>,\n",
       " <model.task.Task at 0x728198b0d0>,\n",
       " <model.task.Task at 0x7281999e10>,\n",
       " <model.task.Task at 0x728199a050>,\n",
       " <model.task.Task at 0x728199a2d0>,\n",
       " <model.task.Task at 0x728199a390>]"
      ]
     },
     "execution_count": 9,
     "metadata": {},
     "output_type": "execute_result"
    }
   ],
   "source": [
    "tlists[0].get_tasks(oauth, TASKS_URL)"
   ]
  },
  {
   "cell_type": "code",
   "execution_count": 12,
   "id": "77448e04-c330-4345-a6c7-89fe81cac1ff",
   "metadata": {},
   "outputs": [
    {
     "data": {
      "text/plain": [
       "['__class__',\n",
       " '__delattr__',\n",
       " '__dict__',\n",
       " '__dir__',\n",
       " '__doc__',\n",
       " '__eq__',\n",
       " '__format__',\n",
       " '__ge__',\n",
       " '__getattribute__',\n",
       " '__getstate__',\n",
       " '__gt__',\n",
       " '__hash__',\n",
       " '__init__',\n",
       " '__init_subclass__',\n",
       " '__le__',\n",
       " '__lt__',\n",
       " '__module__',\n",
       " '__ne__',\n",
       " '__new__',\n",
       " '__reduce__',\n",
       " '__reduce_ex__',\n",
       " '__repr__',\n",
       " '__setattr__',\n",
       " '__sizeof__',\n",
       " '__str__',\n",
       " '__subclasshook__',\n",
       " '__weakref__',\n",
       " 'due',\n",
       " 'etag',\n",
       " 'id',\n",
       " 'links',\n",
       " 'position',\n",
       " 'selfLink',\n",
       " 'status',\n",
       " 'title',\n",
       " 'updated']"
      ]
     },
     "execution_count": 12,
     "metadata": {},
     "output_type": "execute_result"
    }
   ],
   "source": [
    "dir(tlists[0].tasks[0])"
   ]
  }
 ],
 "metadata": {
  "kernelspec": {
   "display_name": "venv_tasks",
   "language": "python",
   "name": "venv_tasks"
  },
  "language_info": {
   "codemirror_mode": {
    "name": "ipython",
    "version": 3
   },
   "file_extension": ".py",
   "mimetype": "text/x-python",
   "name": "python",
   "nbconvert_exporter": "python",
   "pygments_lexer": "ipython3",
   "version": "3.11.1"
  }
 },
 "nbformat": 4,
 "nbformat_minor": 5
}
